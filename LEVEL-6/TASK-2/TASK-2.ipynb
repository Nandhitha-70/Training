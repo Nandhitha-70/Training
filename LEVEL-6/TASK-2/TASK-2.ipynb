{
 "cells": [
  {
   "cell_type": "code",
   "execution_count": null,
   "metadata": {},
   "outputs": [
    {
     "name": "stdout",
     "output_type": "stream",
     "text": [
      "number of pets: Quantitative (Discrete)\n",
      "blood type: Qualitative (Nominal)\n",
      "weight in kg: Quantitative (Continuous)\n",
      "satisfaction level: Qualitative (Ordinal)\n"
     ]
    }
   ],
   "source": [
    "def classify_variable(variable_name, value):\n",
    "    qualitative_nominal = {\"blood type\", \"gender\", \"marital status\", \"eye color\"}\n",
    "    qualitative_ordinal = {\"satisfaction level\", \"education level\", \"ranking\"}\n",
    "    quantitative_discrete = {\"number of pets\", \"number of siblings\", \"students in class\"}\n",
    "    quantitative_continuous = {\"weight in kg\", \"height\", \"temperature\", \"income\"}\n",
    "    \n",
    "    if variable_name in qualitative_nominal:\n",
    "        return \"Qualitative (Nominal)\"\n",
    "    elif variable_name in qualitative_ordinal:\n",
    "        return \"Qualitative (Ordinal)\"\n",
    "    elif variable_name in quantitative_discrete:\n",
    "        return \"Quantitative (Discrete)\"\n",
    "    elif variable_name in quantitative_continuous:\n",
    "        return \"Quantitative (Continuous)\"\n",
    "    else:\n",
    "        return \"Unknown category\"\n",
    "variables = {\n",
    "    \"number of pets\": 3,\n",
    "    \"blood type\": \"A+\",\n",
    "    \"weight in kg\": 72.5,\n",
    "    \"satisfaction level\": \"High\"\n",
    "}\n",
    "for var, value in variables.items():\n",
    "    print(f\"{var}: {classify_variable(var, value)}\")\n"
   ]
  },
  {
   "cell_type": "code",
   "execution_count": 1,
   "metadata": {},
   "outputs": [
    {
     "name": "stdout",
     "output_type": "stream",
     "text": [
      "number of pets: Quantitative (Discrete)\n",
      "blood type: Qualitative\n",
      "weight in kg: Quantitative (Continuous)\n",
      "satisfaction level: Qualitative\n"
     ]
    }
   ],
   "source": [
    "import statistics\n",
    "\n",
    "def classify_variable(variable_name):\n",
    "    qualitative_nominal = {\"blood type\", \"gender\", \"marital status\", \"eye color\"}\n",
    "    qualitative_ordinal = {\"satisfaction level\", \"education level\", \"ranking\"}\n",
    "    quantitative_discrete = {\"number of pets\", \"number of siblings\", \"students in class\"}\n",
    "    quantitative_continuous = {\"weight in kg\", \"height\", \"temperature\", \"income\"}\n",
    "    \n",
    "    if variable_name in qualitative_nominal:\n",
    "        return \"Qualitative\"\n",
    "    elif variable_name in qualitative_ordinal:\n",
    "        return \"Qualitative\"\n",
    "    elif variable_name in quantitative_discrete:\n",
    "        return \"Quantitative (Discrete)\"\n",
    "    elif variable_name in quantitative_continuous:\n",
    "        return \"Quantitative (Continuous)\"\n",
    "    else:\n",
    "        return \"Unknown category\"\n",
    "\n",
    "# Example Variables\n",
    "variables = [\"number of pets\", \"blood type\", \"weight in kg\", \"satisfaction level\"]\n",
    "\n",
    "# Classifying Variables\n",
    "for var in variables:\n",
    "    print(f\"{var}: {classify_variable(var)}\")\n"
   ]
  }
 ],
 "metadata": {
  "kernelspec": {
   "display_name": "Python 3",
   "language": "python",
   "name": "python3"
  },
  "language_info": {
   "codemirror_mode": {
    "name": "ipython",
    "version": 3
   },
   "file_extension": ".py",
   "mimetype": "text/x-python",
   "name": "python",
   "nbconvert_exporter": "python",
   "pygments_lexer": "ipython3",
   "version": "3.12.5"
  }
 },
 "nbformat": 4,
 "nbformat_minor": 2
}
